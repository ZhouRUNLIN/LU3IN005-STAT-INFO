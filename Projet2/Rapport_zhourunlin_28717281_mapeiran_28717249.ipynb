{
 "cells": [
  {
   "cell_type": "markdown",
   "id": "4a64ee59",
   "metadata": {},
   "source": [
    "# <div align='center' >Rapport du Projet 2 : Classifications Probabilistes</div>\n",
    "### <div align='center' >ZHOU runlin 28717281</div>\n",
    "###  <div align='center' >MA peiran 28717249</div>\n",
    "\n",
    "# Introduction :\n",
    "Le but de ce projet est de rechercher de meilleures méthodes de classification qui existent naturellement en statistiques. Nous nous concentrerons sur l'effet d'une série de paramètres sur nos résultats de prédiction et sur la façon dont nous pouvons leur donner plus de sens en construisant des modèles.\n",
    "*****\n",
    "\n",
    "# Préparation pour le projet : "
   ]
  },
  {
   "cell_type": "code",
   "execution_count": 1,
   "id": "abe1aa18",
   "metadata": {},
   "outputs": [],
   "source": [
    "# Afin de vous simplifier la vie : à chaque modification de projet.py, il sera rechargé par la session jupyter.\n",
    "%load_ext autoreload\n",
    "%autoreload 2\n",
    "\n",
    "# Avant de commencer, nous devons importer certaines packages pour présenter et tester notre code.\n",
    "import pandas as pd\n",
    "import numpy as np\n",
    "\n",
    "import utils\n",
    "import projet \n",
    "\n",
    "#Initialisation des variables\n",
    "data=pd.read_csv(\"heart.csv\")\n",
    "train=pd.read_csv(\"train.csv\")\n",
    "test=pd.read_csv(\"test.csv\")"
   ]
  },
  {
   "cell_type": "markdown",
   "id": "e308e8e8",
   "metadata": {},
   "source": [
    "### Question 1 :\n",
    "Dans la fonction <font color = red>getPrior</font>, nous devons calculer la probabilité antérieure de la classe 1 (target = 1) et l'intervalle de confiance à 95%. Cette fonction doit donc rendre un dictionnaire contenant 3 clés suivant : <font color = red>'estimation', 'min5pourcent', 'max5pourcent'</font>\n",
    "\n",
    "Supposons que le nombre total de personnes est N et le nombre de personnes qui sont \"target\"=1 est N1. \n",
    "Pour une personne individuelle, la probabilité d'être malade suit la loi de Bernoulli, et nous considérons la valeur de \"target\" comme la variable de Bernoulli :<br>\n",
    "- p(X = 1) = p = N1/N <br>\n",
    "- p(X = 0) = 1-p \n",
    "\n",
    "Donc, on a: </br>\n",
    "l'espérance de \"target\" de Bernoulli vaut p et la variance vaut p(1 – p).\n",
    "\n",
    "Et pour un groupe de personnes, le nombre de personnes malades suit une distribution normale, avec <font color = red>µ = N*E(X)</font> et <font color = red>σ = sqrt(V(x))</font>\n",
    "\n",
    "<img src=\"loi_normal.png\" width=\"40%\">\n",
    "\n",
    "Par conséquent, on a : </br>\n",
    "- 'estimation' = p <br>\n",
    "- 'min5pourcent' = p - 1.96*σ <br>\n",
    "- 'max5pourcent' = p + 1.96*σ "
   ]
  },
  {
   "cell_type": "code",
   "execution_count": 2,
   "id": "7e666eee",
   "metadata": {},
   "outputs": [
    {
     "data": {
      "text/plain": [
       "{'estimation': 0.7453874538745388,\n",
       " 'min5pourcent': 0.7087109975695709,\n",
       " 'max5pourcent': 0.7820639101795066}"
      ]
     },
     "execution_count": 2,
     "metadata": {},
     "output_type": "execute_result"
    }
   ],
   "source": [
    "projet.getPrior(train) "
   ]
  },
  {
   "cell_type": "code",
   "execution_count": 3,
   "id": "cb0f7c06",
   "metadata": {},
   "outputs": [
    {
     "data": {
      "text/plain": [
       "{'estimation': 0.69,\n",
       " 'min5pourcent': 0.62590170673099,\n",
       " 'max5pourcent': 0.7540982932690099}"
      ]
     },
     "execution_count": 3,
     "metadata": {},
     "output_type": "execute_result"
    }
   ],
   "source": [
    "projet.getPrior(test)"
   ]
  },
  {
   "cell_type": "markdown",
   "id": "495ad199",
   "metadata": {},
   "source": [
    "### Question 2 :\n"
   ]
  },
  {
   "cell_type": "code",
   "execution_count": 4,
   "id": "9ecd8d09",
   "metadata": {},
   "outputs": [],
   "source": [
    "# Question 2a\n",
    "cl=projet.APrioriClassifier()\n",
    "cl.train_model()\n",
    "clpredite=cl.estimClass(utils.getNthDict(train,2))"
   ]
  },
  {
   "cell_type": "code",
   "execution_count": 5,
   "id": "35ce72aa",
   "metadata": {},
   "outputs": [
    {
     "name": "stdout",
     "output_type": "stream",
     "text": [
      "test en apprentissage : {'VP': 403.0, 'VN': 18.0, 'FP': 120.0, 'FN': 1.0, 'Précision': 0.7705544933078394, 'rappel': 0.9975247524752475}\n",
      "test en validation: {'VP': 138.0, 'VN': 0.0, 'FP': 62.0, 'FN': 0.0, 'Précision': 0.69, 'rappel': 1.0}\n"
     ]
    }
   ],
   "source": [
    "# Question 2b\n",
    "cl=projet.APrioriClassifier()\n",
    "print(\"test en apprentissage : {}\".format(cl.statsOnDF(train)))\n",
    "print(\"test en validation: {}\".format(cl.statsOnDF(test)))"
   ]
  },
  {
   "cell_type": "markdown",
   "id": "f91b801a",
   "metadata": {},
   "source": [
    "# Conclusion :\n"
   ]
  },
  {
   "cell_type": "code",
   "execution_count": null,
   "id": "75cd92a2",
   "metadata": {},
   "outputs": [],
   "source": []
  }
 ],
 "metadata": {
  "kernelspec": {
   "display_name": "Python 3 (ipykernel)",
   "language": "python",
   "name": "python3"
  },
  "language_info": {
   "codemirror_mode": {
    "name": "ipython",
    "version": 3
   },
   "file_extension": ".py",
   "mimetype": "text/x-python",
   "name": "python",
   "nbconvert_exporter": "python",
   "pygments_lexer": "ipython3",
   "version": "3.9.13"
  }
 },
 "nbformat": 4,
 "nbformat_minor": 5
}
