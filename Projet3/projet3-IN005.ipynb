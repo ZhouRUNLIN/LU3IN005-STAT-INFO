{
 "cells": [
  {
   "cell_type": "code",
   "execution_count": null,
   "id": "bf4baf72",
   "metadata": {},
   "outputs": [],
   "source": []
  },
  {
   "cell_type": "markdown",
   "id": "6bd395e6",
   "metadata": {},
   "source": [
    "### Projet3 : Chaines de Markov et épidémiologie \n"
   ]
  },
  {
   "cell_type": "code",
   "execution_count": 2,
   "id": "b0f10386",
   "metadata": {},
   "outputs": [],
   "source": [
    "import numpy as np\n",
    "import random as rd\n",
    "import matplotlib as plt"
   ]
  },
  {
   "cell_type": "markdown",
   "id": "4da4a2c2",
   "metadata": {},
   "source": [
    "Question 1:\n",
    "\n",
    "$$\\begin{matrix}\n",
    " & S & I & R \\\\\n",
    "S & \\frac{2}{3} & \\frac{1}{3} & 0 \\\\\n",
    "I & 0 & \\frac{5}{6} & \\frac{1}{6} \\\\\n",
    "R & 0 & 0 & 1 \n",
    "\\end{matrix}$$"
   ]
  },
  {
   "cell_type": "code",
   "execution_count": 3,
   "id": "5d8a7e6f",
   "metadata": {},
   "outputs": [
    {
     "data": {
      "text/plain": [
       "array([[0., 0., 0., ..., 0., 0., 0.],\n",
       "       [0., 0., 0., ..., 2., 2., 2.],\n",
       "       [0., 0., 0., ..., 2., 2., 2.],\n",
       "       ...,\n",
       "       [0., 0., 0., ..., 1., 1., 1.],\n",
       "       [0., 0., 1., ..., 2., 2., 2.],\n",
       "       [0., 0., 0., ..., 1., 1., 1.]])"
      ]
     },
     "execution_count": 3,
     "metadata": {},
     "output_type": "execute_result"
    }
   ],
   "source": [
    "np.loadtxt('data_exo.txt')"
   ]
  },
  {
   "cell_type": "code",
   "execution_count": 7,
   "id": "1cc2bb1a",
   "metadata": {},
   "outputs": [],
   "source": [
    "def matriceTransition(ficNom):\n",
    "    ls = np.loadtxt(ficNom)\n",
    "    ss, si, ii, ir, rr, rs = 0, 0, 0, 0, 0, 0\n",
    "    for i in range(0, len(ls)):\n",
    "        l = len(ls[i])\n",
    "        for j in range(1, l):\n",
    "            if(ls[i][j-1] == 0 and ls[i][j] == 0):\n",
    "                ss+=1\n",
    "            if(ls[i][j-1] == 0 and ls[i][j] == 1):\n",
    "                si+=1\n",
    "            if(ls[i][j-1] == 1 and ls[i][j] == 1):\n",
    "                ii+=1\n",
    "            if(ls[i][j-1] == 1 and ls[i][j] == 2):\n",
    "                ir+=1\n",
    "            if(ls[i][j-1] == 2 and ls[i][j] == 2):\n",
    "                rr+=1\n",
    "            if(ls[i][j-1] == 2 and ls[i][j] == 0):\n",
    "                rs+=1\n",
    "    return np.array([[ss/(ss + si), (si/(ss + si)), 0], \n",
    "                    [0, ii/(ii + ir), ir/(ii + ir)], \n",
    "                    [rs/(rs + rr), 0, rr/(rs + rr)]])\n",
    "        "
   ]
  },
  {
   "cell_type": "code",
   "execution_count": 8,
   "id": "308afb0c",
   "metadata": {},
   "outputs": [
    {
     "data": {
      "text/plain": [
       "array([[0.93082918, 0.06917082, 0.        ],\n",
       "       [0.        , 0.93518148, 0.06481852],\n",
       "       [0.04065945, 0.        , 0.95934055]])"
      ]
     },
     "execution_count": 8,
     "metadata": {},
     "output_type": "execute_result"
    }
   ],
   "source": [
    "matriceTransition('data_exo.txt')"
   ]
  },
  {
   "cell_type": "code",
   "execution_count": null,
   "id": "40532097",
   "metadata": {},
   "outputs": [],
   "source": []
  }
 ],
 "metadata": {
  "kernelspec": {
   "display_name": "Python 3 (ipykernel)",
   "language": "python",
   "name": "python3"
  },
  "language_info": {
   "codemirror_mode": {
    "name": "ipython",
    "version": 3
   },
   "file_extension": ".py",
   "mimetype": "text/x-python",
   "name": "python",
   "nbconvert_exporter": "python",
   "pygments_lexer": "ipython3",
   "version": "3.9.13"
  }
 },
 "nbformat": 4,
 "nbformat_minor": 5
}
